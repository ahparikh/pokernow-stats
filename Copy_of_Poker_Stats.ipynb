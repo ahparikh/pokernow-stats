{
  "nbformat": 4,
  "nbformat_minor": 0,
  "metadata": {
    "colab": {
      "name": "Copy of Poker Stats",
      "provenance": [],
      "mount_file_id": "https://github.com/ahparikh/pokernow-stats/blob/master/Poker_Stats.ipynb",
      "authorship_tag": "ABX9TyN3Hcv/RddOH6FyJRsgqDTw",
      "include_colab_link": true
    },
    "kernelspec": {
      "name": "python3",
      "display_name": "Python 3"
    }
  },
  "cells": [
    {
      "cell_type": "markdown",
      "metadata": {
        "id": "view-in-github",
        "colab_type": "text"
      },
      "source": [
        "<a href=\"https://colab.research.google.com/github/ahparikh/pokernow-stats/blob/master/Copy_of_Poker_Stats.ipynb\" target=\"_parent\"><img src=\"https://colab.research.google.com/assets/colab-badge.svg\" alt=\"Open In Colab\"/></a>"
      ]
    },
    {
      "cell_type": "code",
      "metadata": {
        "id": "uSTShy-tS_Cm",
        "colab_type": "code",
        "colab": {}
      },
      "source": [
        "import csv\n",
        "import re\n",
        "\n",
        "base_path = 'drive/My Drive/Colab Notebooks/Nights/'\n",
        "\n",
        "# Setup configuration\n",
        "game_date = '2020-06-04'\n",
        "game_log = '/content/drive/My Drive/Colab Notebooks/Nights/2020-06-04/poker_now_log_d9Ga89cB4DGYyaHiS0VgqKSq4.csv'"
      ],
      "execution_count": 0,
      "outputs": []
    },
    {
      "cell_type": "code",
      "metadata": {
        "id": "BTkqcQxYhWDx",
        "colab_type": "code",
        "colab": {}
      },
      "source": [
        "class Game:\n",
        "  def __init__(self):\n",
        "    self.hands = []\n",
        "    self.hand_winners = {}\n",
        "\n",
        "  def addHand(self, hand):\n",
        "    self.hands.append(hand)\n",
        "\n",
        "  def totalHands(self):\n",
        "    return len(self.hands)\n",
        "\n",
        "  def printHand(self, hand_no):\n",
        "    if hand_no > len(self.hands):\n",
        "      print(\"No such hand\")\n",
        "      return\n",
        "\n",
        "    print(self.hands[hand_no])\n",
        "\n",
        "class Hand:\n",
        "  def __init__(self):\n",
        "    self.actions = []\n",
        "    self.positions = {}\n",
        "\n",
        "  def __str__(self):\n",
        "    return '\\n'.join(self.actions)\n",
        "\n",
        "  def addAction(self, action):\n",
        "    self.actions.append(action)"
      ],
      "execution_count": 0,
      "outputs": []
    },
    {
      "cell_type": "code",
      "metadata": {
        "id": "FMk66PeIU0FP",
        "colab_type": "code",
        "colab": {}
      },
      "source": [
        "# Game log in chrono order, so reverse the list to read it\n",
        "gamefile = open(game_log, 'r')\n",
        "gamefile.readline() # first line is the header, toss it.\n",
        "\n",
        "gamecsv = reversed(gamefile.readlines())\n",
        "\n",
        "game = Game()\n",
        "actions = csv.reader(gamecsv)\n",
        "cur_hand = None\n",
        "for (action, time, epoch) in actions:\n",
        "  # Special case this line\n",
        "  # -- when a new hand starts, close the old and initialize\n",
        "  if action.startswith('-- starting'):\n",
        "    # close out the old hand and start a new one\n",
        "    if cur_hand:\n",
        "      game.addHand(cur_hand)\n",
        "    cur_hand = Hand()\n",
        "    cur_hand.addAction(action)\n",
        "    continue\n",
        "  \n",
        "  if re.match(\"\\\".*\\\" gained\", action):\n",
        "    if cur_hand:\n",
        "      cur_hand.addAction(action)\n",
        "  elif re.match(\"\\\".*\\\" wins\", action):\n",
        "    if cur_hand:\n",
        "      cur_hand.addAction(action)\n",
        "  else:\n",
        "    if cur_hand:\n",
        "      pass\n",
        "      #cur_hand.addAction(action)\n",
        "\n",
        "game.addHand(cur_hand)\n",
        "print(game.totalHands())\n",
        "game.printHand(1)\n",
        "game.printHand(5)"
      ],
      "execution_count": 0,
      "outputs": []
    }
  ]
}